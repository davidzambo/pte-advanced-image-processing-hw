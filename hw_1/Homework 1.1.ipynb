{
 "cells": [
  {
   "cell_type": "markdown",
   "id": "8e1039db",
   "metadata": {},
   "source": [
    "Task:\n",
    "\n",
    "Load the „pattern_X.tif” 8×8 image. \n",
    "Convert to grayscale only if it is needed. \n",
    "Compute the result when the pattern is convolved with each of the masks (a) to (d) shown. Pad the image with zeroes."
   ]
  },
  {
   "cell_type": "code",
   "execution_count": 15,
   "id": "f1770a1e",
   "metadata": {},
   "outputs": [],
   "source": [
    "from  PIL import Image\n",
    "import matplotlib.pyplot as plt\n",
    "import numpy as np\n",
    "\n",
    "pattern = Image.open('./pattern_h.tif').convert(\"L\")\n",
    "\n",
    "mask_a = np.array([\n",
    "    [-1, -1, 0], \n",
    "    [-1, 0, 1], \n",
    "    [0, 1, 1]\n",
    "    ])\n",
    "\n",
    "mask_b = np.array([\n",
    "    [0, -1, -1], \n",
    "    [1, 0, -1], \n",
    "    [1, 1, 1]\n",
    "    ])\n",
    "\n",
    "mask_d = np.array([\n",
    "    [-1, -1, -1], \n",
    "    [-1, 8, -1], \n",
    "    [-1, -1, -1]\n",
    "    ])\n",
    "\n",
    "mask_c = mask_d * -1"
   ]
  },
  {
   "cell_type": "code",
   "execution_count": null,
   "id": "eeaa6ac1",
   "metadata": {},
   "outputs": [],
   "source": []
  },
  {
   "cell_type": "code",
   "execution_count": 16,
   "id": "36e39289",
   "metadata": {},
   "outputs": [
    {
     "data": {
      "text/plain": [
       "<matplotlib.image.AxesImage at 0x7fc74dfc89d0>"
      ]
     },
     "execution_count": 16,
     "metadata": {},
     "output_type": "execute_result"
    },
    {
     "data": {
      "image/png": "[encoded data removed]",
      "text/plain": [
       "<Figure size 432x288 with 1 Axes>"
      ]
     },
     "metadata": {
      "needs_background": "light"
     },
     "output_type": "display_data"
    }
   ],
   "source": [
    "plt.figure()\n",
    "plt.imshow(pattern, 'gray')"
   ]
  },
  {
   "cell_type": "code",
   "execution_count": 115,
   "id": "6b017bc0",
   "metadata": {},
   "outputs": [
    {
     "data": {
      "text/plain": [
       "array([[129, 173,  99,   0,  39, 104, 198,  14],\n",
       "       [  8, 130, 174,  97,   0,  41, 104, 200],\n",
       "       [ 40,   8, 131, 175,  95,   0,  41, 105],\n",
       "       [241,  39,   9, 130, 176,  93,   0,  42],\n",
       "       [125, 241,  37,   9, 130, 177,  91,   0],\n",
       "       [ 88, 126, 242,  35,  10, 131, 178,  89],\n",
       "       [  0,  90, 126, 243,  34,  10, 131, 179],\n",
       "       [  0,   0,  90, 127, 244,  32,  11, 132]], dtype=uint8)"
      ]
     },
     "execution_count": 115,
     "metadata": {},
     "output_type": "execute_result"
    }
   ],
   "source": [
    "pattern_array = np.uint8(np.array(pattern))\n",
    "pattern_array"
   ]
  },
  {
   "cell_type": "code",
   "execution_count": 124,
   "id": "f0d8fabb",
   "metadata": {},
   "outputs": [
    {
     "data": {
      "text/plain": [
       "array([[  0,   0,   0,   0,   0,   0,   0,   0,   0,   0],\n",
       "       [  0, 129, 173,  99,   0,  39, 104, 198,  14,   0],\n",
       "       [  0,   8, 130, 174,  97,   0,  41, 104, 200,   0],\n",
       "       [  0,  40,   8, 131, 175,  95,   0,  41, 105,   0],\n",
       "       [  0, 241,  39,   9, 130, 176,  93,   0,  42,   0],\n",
       "       [  0, 125, 241,  37,   9, 130, 177,  91,   0,   0],\n",
       "       [  0,  88, 126, 242,  35,  10, 131, 178,  89,   0],\n",
       "       [  0,   0,  90, 126, 243,  34,  10, 131, 179,   0],\n",
       "       [  0,   0,   0,  90, 127, 244,  32,  11, 132,   0],\n",
       "       [  0,   0,   0,   0,   0,   0,   0,   0,   0,   0]], dtype=uint8)"
      ]
     },
     "execution_count": 124,
     "metadata": {},
     "output_type": "execute_result"
    }
   ],
   "source": [
    "zero_padded_pattern = np.pad(pattern_array, (1,), mode='constant')\n",
    "zero_padded_pattern"
   ]
  },
  {
   "cell_type": "code",
   "execution_count": 117,
   "id": "4cc1aae0",
   "metadata": {},
   "outputs": [],
   "source": [
    "def get_masked_value(arr, mask):\n",
    "    result = 0\n",
    "    \n",
    "    for i, row in enumerate(arr):\n",
    "        for j, val in enumerate(row):    \n",
    "            result = result + mask[i][j] * val\n",
    "    return np.uint16(result)"
   ]
  },
  {
   "cell_type": "code",
   "execution_count": 118,
   "id": "5e2ea251",
   "metadata": {
    "scrolled": false
   },
   "outputs": [
    {
     "data": {
      "text/plain": [
       "129"
      ]
     },
     "execution_count": 118,
     "metadata": {},
     "output_type": "execute_result"
    }
   ],
   "source": [
    "get_masked_value(zero_padded_pattern[0:3, 0:3], mask_a)"
   ]
  },
  {
   "cell_type": "code",
   "execution_count": 130,
   "id": "aceb574c",
   "metadata": {},
   "outputs": [],
   "source": [
    "def create_masked_pattern(arr, mask):\n",
    "    masked = arr.copy()\n",
    "    for i in range(1, len(arr)-1):\n",
    "        for j in range(1, len(arr)-1):\n",
    "            masked[i][j] = get_masked_value(arr[i-1:i-1+3, j-1:j-1+3], mask)\n",
    "    return masked"
   ]
  },
  {
   "cell_type": "code",
   "execution_count": 131,
   "id": "0c0a6cb1",
   "metadata": {},
   "outputs": [],
   "source": [
    "a_masked_pattern = create_masked_pattern(zero_padded_pattern, np.flip(mask_a))\n",
    "b_masked_pattern = create_masked_pattern(zero_padded_pattern, np.flip(mask_b))\n",
    "c_masked_pattern = create_masked_pattern(zero_padded_pattern, np.flip(mask_c))\n",
    "d_masked_pattern = create_masked_pattern(zero_padded_pattern, np.flip(mask_d))\n"
   ]
  },
  {
   "cell_type": "code",
   "execution_count": 136,
   "id": "14e00a87",
   "metadata": {},
   "outputs": [
    {
     "data": {
      "text/plain": [
       "Text(0.5, 1.0, 'Mask D')"
      ]
     },
     "execution_count": 136,
     "metadata": {},
     "output_type": "execute_result"
    },
    {
     "data": {
      "image/png": "[encoded data removed]",
      "text/plain": [
       "<Figure size 432x288 with 5 Axes>"
      ]
     },
     "metadata": {
      "needs_background": "light"
     },
     "output_type": "display_data"
    }
   ],
   "source": [
    "plt.subplot(3,4,1)\n",
    "plt.imshow(pattern, 'gray')\n",
    "plt.title('Original')\n",
    "\n",
    "plt.subplot(3,4,5)\n",
    "plt.imshow(a_masked_pattern[1:9,1:9], 'gray')\n",
    "plt.title('Mask A')\n",
    "\n",
    "plt.subplot(3,4,6)\n",
    "plt.imshow(b_masked_pattern[1:9,1:9], 'gray')\n",
    "plt.title('Mask B')\n",
    "\n",
    "plt.subplot(3,4,7)\n",
    "plt.imshow(c_masked_pattern[1:9,1:9], 'gray')\n",
    "plt.title('Mask C')\n",
    "\n",
    "plt.subplot(3,4,8)\n",
    "plt.imshow(d_masked_pattern[1:9,1:9], 'gray')\n",
    "plt.title('Mask D')"
   ]
  },
  {
   "cell_type": "code",
   "execution_count": 134,
   "id": "fd05220a",
   "metadata": {},
   "outputs": [
    {
     "name": "stdout",
     "output_type": "stream",
     "text": [
      "Mask\n",
      "[[-1 -1  0]\n",
      " [-1  0  1]\n",
      " [ 0  1  1]]\n",
      "\n",
      "Pattern\n",
      "[[129 173  99   0  39 104 198  14]\n",
      " [  8 130 174  97   0  41 104 200]\n",
      " [ 40   8 131 175  95   0  41 105]\n",
      " [241  39   9 130 176  93   0  42]\n",
      " [125 241  37   9 130 177  91   0]\n",
      " [ 88 126 242  35  10 131 178  89]\n",
      " [  0  90 126 243  34  10 131 179]\n",
      " [  0   0  90 127 244  32  11 132]]\n",
      "\n",
      "Manually masked pattern\n",
      "[[  0   0   0   0   0   0   0   0   0   0]\n",
      " [  0 201 238 158 219 111 208  42 254   0]\n",
      " [  0 207 253 255   3   0 254 253 211   0]\n",
      " [  0 232 255 254   1   3   2 254  47   0]\n",
      " [  0 147   2   2   0   0   3   1 146   0]\n",
      " [  0  42   0   3   1 253 255   3  44   0]\n",
      " [  0 165 252   0   1 255 254   0  90   0]\n",
      " [  0 254 254 254 254   2   1 253  10   0]\n",
      " [  0   0   0  89 215 116  21  41  65   0]\n",
      " [  0   0   0   0   0   0   0   0   0   0]]\n",
      "\n",
      "Convolved pattern\n",
      "[[201 238 158 219 111 208  42 254]\n",
      " [207 253 255   3   0 254 253 211]\n",
      " [232 255 254   1   3   2 254  47]\n",
      " [147   2   2   0   0   3   1 146]\n",
      " [ 42   0   3   1 253 255   3  44]\n",
      " [165 252   0   1 255 254   0  90]\n",
      " [254 254 254 254   2   1 253  10]\n",
      " [  0   0  89 215 116  21  41  65]]\n"
     ]
    }
   ],
   "source": [
    "# Solve it with scipy.ndimage.convolve\n",
    "from scipy import ndimage\n",
    "a_convolved_pattern = ndimage.convolve(pattern_array, mask_a, mode='constant')\n",
    "b_convolved_pattern = ndimage.convolve(pattern_array, mask_b, mode='constant')\n",
    "c_convolved_pattern = ndimage.convolve(pattern_array, mask_c, mode='constant')\n",
    "d_convolved_pattern = ndimage.convolve(pattern_array, mask_d, mode='constant')\n",
    "print(\"Mask\")\n",
    "print(mask_a)\n",
    "print(\"\\nPattern\")\n",
    "print(pattern_array)\n",
    "print(\"\\nManually masked pattern\")\n",
    "print(a_masked_pattern)\n",
    "print(\"\\nConvolved pattern\")\n",
    "print(a_convolved_pattern)"
   ]
  },
  {
   "cell_type": "code",
   "execution_count": 135,
   "id": "9d00e814",
   "metadata": {},
   "outputs": [
    {
     "data": {
      "text/plain": [
       "Text(0.5, 1.0, 'Mask D - convolved')"
      ]
     },
     "execution_count": 135,
     "metadata": {},
     "output_type": "execute_result"
    },
    {
     "data": {
      "image/png": "[encoded data removed]",
      "text/plain": [
       "<Figure size 432x288 with 9 Axes>"
      ]
     },
     "metadata": {
      "needs_background": "light"
     },
     "output_type": "display_data"
    }
   ],
   "source": [
    "plt.subplot(3,4,1)\n",
    "plt.imshow(pattern, 'gray')\n",
    "plt.title('Original')\n",
    "\n",
    "plt.subplot(3,4,5)\n",
    "plt.imshow(a_masked_pattern[1:9,1:9], 'gray')\n",
    "plt.title('Mask A')\n",
    "\n",
    "plt.subplot(3,4,6)\n",
    "plt.imshow(b_masked_pattern[1:9,1:9], 'gray')\n",
    "plt.title('Mask B')\n",
    "\n",
    "plt.subplot(3,4,7)\n",
    "plt.imshow(c_masked_pattern[1:9,1:9], 'gray')\n",
    "plt.title('Mask C')\n",
    "\n",
    "plt.subplot(3,4,8)\n",
    "plt.imshow(d_masked_pattern[1:9,1:9], 'gray')\n",
    "plt.title('Mask D')\n",
    "\n",
    "plt.subplot(3,4,9)\n",
    "plt.imshow(a_convolved_pattern, 'gray')\n",
    "plt.title('Mask A - convolved')\n",
    "\n",
    "plt.subplot(3,4,10)\n",
    "plt.imshow(b_convolved_pattern, 'gray')\n",
    "plt.title('Mask B - convolved')\n",
    "\n",
    "plt.subplot(3,4,11)\n",
    "plt.imshow(c_convolved_pattern, 'gray')\n",
    "plt.title('Mask C - convolved')\n",
    "\n",
    "plt.subplot(3,4,12)\n",
    "plt.imshow(d_convolved_pattern, 'gray')\n",
    "plt.title('Mask D - convolved')"
   ]
  },
  {
   "cell_type": "code",
   "execution_count": null,
   "id": "ac248e80",
   "metadata": {},
   "outputs": [],
   "source": []
  }
 ],
 "metadata": {
  "kernelspec": {
   "display_name": "Python 3 (ipykernel)",
   "language": "python",
   "name": "python3"
  },
  "language_info": {
   "codemirror_mode": {
    "name": "ipython",
    "version": 3
   },
   "file_extension": ".py",
   "mimetype": "text/x-python",
   "name": "python",
   "nbconvert_exporter": "python",
   "pygments_lexer": "ipython3",
   "version": "3.10.5"
  }
 },
 "nbformat": 4,
 "nbformat_minor": 5
}
