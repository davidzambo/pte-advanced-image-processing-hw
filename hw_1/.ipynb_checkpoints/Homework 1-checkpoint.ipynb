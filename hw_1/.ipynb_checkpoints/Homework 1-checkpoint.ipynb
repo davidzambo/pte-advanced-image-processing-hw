{
 "cells": [
  {
   "cell_type": "markdown",
   "id": "bb5a9fae",
   "metadata": {},
   "source": [
    "Task: \n",
    "load the „pattern_X.tif” 8×8 image. \n",
    "Convert to grayscale only if it is needed. \n",
    "Compute the result when the pattern is convolved with each of the masks (a) to (d) shown. Pad the image with zeroes."
   ]
  },
  {
   "cell_type": "code",
   "execution_count": 27,
   "id": "52446c27",
   "metadata": {},
   "outputs": [],
   "source": [
    "from  PIL import Image\n",
    "import matplotlib.pyplot as plt\n",
    "import numpy as np\n",
    "\n",
    "pattern = Image.open('./pattern_h.tif').convert(\"L\")\n",
    "\n",
    "mask_a = np.array([\n",
    "    [-1, -1, 0], \n",
    "    [-1, 0, 1], \n",
    "    [0, 1, 1]\n",
    "    ])\n",
    "\n",
    "mask_b = np.array([\n",
    "    [0, -1, -1], \n",
    "    [1, 0, -1], \n",
    "    [1, 1, 1]\n",
    "    ])\n",
    "\n",
    "mask_d = np.array([\n",
    "    [-1, -1, -1], \n",
    "    [-1, 8, -1], \n",
    "    [-1, -1, -1]\n",
    "    ])\n",
    "\n",
    "mask_c = mask_d * -1\n",
    "\n"
   ]
  },
  {
   "cell_type": "code",
   "execution_count": 28,
   "id": "1bd358d2",
   "metadata": {},
   "outputs": [
    {
     "data": {
      "text/plain": [
       "<matplotlib.image.AxesImage at 0x7f5442bb0670>"
      ]
     },
     "execution_count": 28,
     "metadata": {},
     "output_type": "execute_result"
    },
    {
     "data": {
      "image/png": "[encoded data removed]",
      "text/plain": [
       "<Figure size 432x288 with 1 Axes>"
      ]
     },
     "metadata": {
      "needs_background": "light"
     },
     "output_type": "display_data"
    }
   ],
   "source": [
    "plt.figure()\n",
    "plt.imshow(pattern, 'gray')"
   ]
  },
  {
   "cell_type": "code",
   "execution_count": 29,
   "id": "0ba3829a",
   "metadata": {},
   "outputs": [
    {
     "data": {
      "text/plain": [
       "array([[129, 173,  99,   0,  39, 104, 198,  14],\n",
       "       [  8, 130, 174,  97,   0,  41, 104, 200],\n",
       "       [ 40,   8, 131, 175,  95,   0,  41, 105],\n",
       "       [241,  39,   9, 130, 176,  93,   0,  42],\n",
       "       [125, 241,  37,   9, 130, 177,  91,   0],\n",
       "       [ 88, 126, 242,  35,  10, 131, 178,  89],\n",
       "       [  0,  90, 126, 243,  34,  10, 131, 179],\n",
       "       [  0,   0,  90, 127, 244,  32,  11, 132]], dtype=uint8)"
      ]
     },
     "execution_count": 29,
     "metadata": {},
     "output_type": "execute_result"
    }
   ],
   "source": [
    "pattern_array = np.array(pattern)\n",
    "pattern_array"
   ]
  },
  {
   "cell_type": "code",
   "execution_count": 30,
   "id": "c1d7227b",
   "metadata": {},
   "outputs": [
    {
     "data": {
      "text/plain": [
       "array([[  0,   0,   0,   0,   0,   0,   0,   0,   0,   0],\n",
       "       [  0, 129, 173,  99,   0,  39, 104, 198,  14,   0],\n",
       "       [  0,   8, 130, 174,  97,   0,  41, 104, 200,   0],\n",
       "       [  0,  40,   8, 131, 175,  95,   0,  41, 105,   0],\n",
       "       [  0, 241,  39,   9, 130, 176,  93,   0,  42,   0],\n",
       "       [  0, 125, 241,  37,   9, 130, 177,  91,   0,   0],\n",
       "       [  0,  88, 126, 242,  35,  10, 131, 178,  89,   0],\n",
       "       [  0,   0,  90, 126, 243,  34,  10, 131, 179,   0],\n",
       "       [  0,   0,   0,  90, 127, 244,  32,  11, 132,   0],\n",
       "       [  0,   0,   0,   0,   0,   0,   0,   0,   0,   0]], dtype=uint8)"
      ]
     },
     "execution_count": 30,
     "metadata": {},
     "output_type": "execute_result"
    }
   ],
   "source": [
    "zero_padded_pattern = np.pad(pattern_array, (1,), mode='constant')\n",
    "zero_padded_pattern"
   ]
  },
  {
   "cell_type": "code",
   "execution_count": 94,
   "id": "8161a258",
   "metadata": {},
   "outputs": [],
   "source": [
    "def get_masked_value(arr, mask):\n",
    "    result = 0\n",
    "    \n",
    "    for i, row in enumerate(arr):\n",
    "        for j, val in enumerate(row):    \n",
    "            result = result + mask[i][j] * val\n",
    "    return np.uint8(result / 9)"
   ]
  },
  {
   "cell_type": "code",
   "execution_count": 95,
   "id": "027ec231",
   "metadata": {
    "scrolled": false
   },
   "outputs": [
    {
     "data": {
      "text/plain": [
       "34"
      ]
     },
     "execution_count": 95,
     "metadata": {},
     "output_type": "execute_result"
    }
   ],
   "source": [
    "get_masked_value(zero_padded_pattern[0:3, 0:3], mask_a)"
   ]
  },
  {
   "cell_type": "code",
   "execution_count": 96,
   "id": "3e05ffe1",
   "metadata": {},
   "outputs": [
    {
     "data": {
      "text/plain": [
       "array([[  0,   0,   0,   0,   0,   0,   0,   0,   0,   0],\n",
       "       [  0,   0,   0,   0,   0,   0,   0, 233, 233,   0],\n",
       "       [  0,   0,   0,   0,   0,   0,   0, 223, 223,   0],\n",
       "       [  0,   0,   0,   0,   0,   0,   0, 240, 240,   0],\n",
       "       [  0,   0,   0,   0,   0,   0,   0, 252, 252,   0],\n",
       "       [  0,   0,   0,   0,   0,   0,   0, 246, 247,   0],\n",
       "       [  0,   0,   0,   0,   0,   0,   0, 227, 227,   0],\n",
       "       [  0,   0, 247, 233, 215, 226, 252, 221, 222,   0],\n",
       "       [  0,   0, 246, 232, 215, 226, 252, 241, 242,   0],\n",
       "       [  0,   0,   0,   0,   0,   0,   0,   0,   0,   0]], dtype=uint8)"
      ]
     },
     "execution_count": 96,
     "metadata": {},
     "output_type": "execute_result"
    }
   ],
   "source": [
    "def create_masked_pattern(arr, mask):\n",
    "    masked = arr.copy()\n",
    "    for i in range(1, len(arr)-1):\n",
    "        for j in range(1, len(arr)-1):\n",
    "            masked[i][j] = get_masked_value(arr[i:i+3, j:j+3], mask)\n",
    "\n",
    "    \n",
    "    \n",
    "a_masked_pattern = zero_padded_pattern.copy()\n",
    "for i in range(1, len(zero_padded_pattern)-1):\n",
    "    for j in range(1, len(zero_padded_pattern)-1):\n",
    "        a_masked_pattern[i][j] = get_masked_value(zero_padded_pattern[i:i+3, j:j+3], mask_a)\n",
    "\n",
    "a_masked_pattern"
   ]
  },
  {
   "cell_type": "code",
   "execution_count": 98,
   "id": "cd75ef89",
   "metadata": {},
   "outputs": [
    {
     "data": {
      "text/plain": [
       "Text(0.5, 1.0, 'Mask A')"
      ]
     },
     "execution_count": 98,
     "metadata": {},
     "output_type": "execute_result"
    },
    {
     "data": {
      "image/png": "[encoded data removed]",
      "text/plain": [
       "<Figure size 432x288 with 1 Axes>"
      ]
     },
     "metadata": {
      "needs_background": "light"
     },
     "output_type": "display_data"
    }
   ],
   "source": [
    "plt.imshow(a_masked_pattern[1:9,1:9], 'gray')\n",
    "plt.title('Mask A')"
   ]
  },
  {
   "cell_type": "code",
   "execution_count": null,
   "id": "4bcda035",
   "metadata": {},
   "outputs": [],
   "source": []
  }
 ],
 "metadata": {
  "kernelspec": {
   "display_name": "Python 3 (ipykernel)",
   "language": "python",
   "name": "python3"
  },
  "language_info": {
   "codemirror_mode": {
    "name": "ipython",
    "version": 3
   },
   "file_extension": ".py",
   "mimetype": "text/x-python",
   "name": "python",
   "nbconvert_exporter": "python",
   "pygments_lexer": "ipython3",
   "version": "3.10.5"
  }
 },
 "nbformat": 4,
 "nbformat_minor": 5
}
